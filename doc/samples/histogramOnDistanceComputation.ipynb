{
 "cells": [
  {
   "cell_type": "markdown",
   "id": "5ddc8c40-068f-4992-ab39-f4b9f5eafec9",
   "metadata": {},
   "source": [
    "# Plot an histogram from a distance calculation between a cloud and a mesh\n",
    "\n",
    "Useful generic imports..."
   ]
  },
  {
   "cell_type": "code",
   "execution_count": null,
   "id": "576d6c53-dc2b-4ad2-a77f-48ea8e12bddf",
   "metadata": {
    "tags": []
   },
   "outputs": [],
   "source": [
    "import os\n",
    "import sys\n",
    "import math\n",
    "import psutil"
   ]
  },
  {
   "cell_type": "markdown",
   "id": "af662591-e31e-41fa-99de-27961ff7087e",
   "metadata": {},
    "source": [
      "When CloudComPy is imported, all converters from C++ to Python and vice-versa are initialized. \n",
      "C++ Debug traces can be activated by setting an environment variable _CCTRACE_=\"ON\" before launching CloudComPy. \n",
      "(this variable seems to have no effect on Windows jupyter notebook...)"
    ]
  },
  {
   "cell_type": "code",
   "execution_count": null,
   "id": "12e57c4a-ad10-4d52-a001-c7d0ccbebdb9",
   "metadata": {},
   "outputs": [],
   "source": [
    "#os.environ[\"_CCTRACE_\"]=\"ON\"\n",
    "import cloudComPy as cc"
   ]
  },
  {
   "cell_type": "markdown",
   "id": "c6b32ff1-d52a-418c-9f5d-f257101713f8",
   "metadata": {},
   "source": [
    "The gendata module provides several functions used for automatic testing."
   ]
  },
  {
   "cell_type": "code",
   "execution_count": null,
   "id": "adec7b1a-cb8e-417e-91ff-533a80d94f27",
   "metadata": {},
   "outputs": [],
   "source": [
    "from gendata import getSampleCloud, dataDir"
   ]
  },
  {
   "cell_type": "markdown",
   "id": "ecc200bf-053c-4a64-9edf-5efd940a98bf",
   "metadata": {},
   "source": [
    "To do once before using plugins or dealing with numpy"
   ]
  },
  {
   "cell_type": "code",
   "execution_count": null,
   "id": "b75d552d-8904-49a4-84fb-3d9e2b22c682",
   "metadata": {},
   "outputs": [],
   "source": [
    "cc.initCC()"
   ]
  },
  {
   "cell_type": "markdown",
   "id": "aa8adf0f-9f02-4574-b7e0-50dd58da50a8",
   "metadata": {},
   "source": [
    "Get a sample cloud"
   ]
  },
  {
   "cell_type": "code",
   "execution_count": null,
   "id": "750a10c1-019b-414f-8d0a-291fef61d316",
   "metadata": {},
   "outputs": [],
   "source": [
    "cloud = cc.loadPointCloud(getSampleCloud(5.0))"
   ]
  },
  {
   "cell_type": "markdown",
   "id": "2472dcc1-54f2-4c32-b16e-61543ebe30d5",
   "metadata": {},
   "source": [
    "Generate a mesh: a cylinder, translated"
   ]
  },
  {
   "cell_type": "code",
   "execution_count": null,
   "id": "eea19f9f-b9ca-49a3-b805-062a8dcab169",
   "metadata": {
    "tags": []
   },
   "outputs": [],
   "source": [
    "tr3 = cc.ccGLMatrix()\n",
    "tr3.initFromParameters(0., (0., 0., 0.), (3.0, 0.0, 4.0))\n",
    "cylinder = cc.ccCylinder(0.5, 3.0, tr3, 'aCylinder', 48)"
   ]
  },
  {
   "cell_type": "markdown",
   "id": "78f9f94a-6455-46e3-8a24-cc06282cd4f4",
   "metadata": {},
   "source": [
    "Parameters for distance computation between a cloud and a mesh.\n",
    "The max thread count depends on your processor, and a good compromise for octree level\n",
    "can be found with cc.DistanceComputationTools.determineBestOctreeLevel."
   ]
  },
  {
   "cell_type": "code",
   "execution_count": null,
   "id": "c6335d85-9dae-4cc3-b5c9-286296686cd2",
   "metadata": {},
   "outputs": [],
   "source": [
    "nbCpu = psutil.cpu_count()\n",
    "bestOctreeLevel = cc.DistanceComputationTools.determineBestOctreeLevel(cloud, cylinder)\n",
    "params = cc.Cloud2MeshDistancesComputationParams()\n",
    "params.maxThreadCount=nbCpu\n",
    "params.octreeLevel=bestOctreeLevel"
   ]
  },
  {
   "cell_type": "markdown",
   "id": "f34eebe0-016a-421d-950b-4761a1bba5df",
   "metadata": {},
   "source": [
    "The compute distance may take a while, and returns ```True``` if success."
   ]
  },
  {
   "cell_type": "code",
   "execution_count": null,
   "id": "cdc48c2d-a569-48d4-9d8e-c51b76d5e357",
   "metadata": {},
   "outputs": [],
   "source": [
    "%%time\n",
    "cc.DistanceComputationTools.computeCloud2MeshDistances(cloud, cylinder, params)"
   ]
  },
  {
   "cell_type": "markdown",
   "id": "bd2a1ed9-29ab-4048-bece-faab25019a81",
   "metadata": {},
   "source": [
    "MatPlotLib imports. The magic command ```%matplotlib inline``` is used by Jupyter for plot inside notebook."
   ]
  },
  {
   "cell_type": "code",
   "execution_count": null,
   "id": "628bf2ba-985e-418d-8a01-e4092bdd5af6",
   "metadata": {},
   "outputs": [],
   "source": [
    "%matplotlib inline\n",
    "import numpy as np\n",
    "import matplotlib\n",
    "import matplotlib.pyplot as plt\n",
    "from matplotlib import colors"
   ]
  },
  {
   "cell_type": "markdown",
   "id": "7bd7fed5-716d-404e-bf15-ffa925a58fdc",
   "metadata": {},
   "source": [
    "The computed distance scalar field is used as a Numpy Array."
   ]
  },
  {
   "cell_type": "code",
   "execution_count": null,
   "id": "f2314fe7-1ae5-4757-88f7-5806c97c8e17",
   "metadata": {},
   "outputs": [],
   "source": [
    "dic = cloud.getScalarFieldDic()\n",
    "sf=cloud.getScalarField(dic['C2M absolute distances'])\n",
    "asf= sf.toNpArray()"
   ]
  },
  {
   "cell_type": "markdown",
   "id": "3db2e3dc-590e-40e6-a7e6-495ff6812f94",
   "metadata": {},
   "source": [
    "Plot histogram of the distance scalar field."
   ]
  },
  {
   "cell_type": "code",
   "execution_count": null,
   "id": "5065203e-0981-42c5-9890-5543510e4d9a",
   "metadata": {},
   "outputs": [],
   "source": [
    "(n, bins, patches) = plt.hist(asf, bins=256, density=1) # histogram for matplotlib\n",
    "fracs = bins / bins.max()\n",
    "norm = colors.Normalize(fracs.min(), fracs.max())\n",
    "for thisfrac, thispatch in zip(fracs, patches):\n",
    "    color = plt.cm.rainbow(norm(thisfrac))\n",
    "    thispatch.set_facecolor(color)"
   ]
  }
 ],
 "metadata": {
  "kernelspec": {
   "display_name": "Python 3 (ipykernel)",
   "language": "python",
   "name": "python3"
  },
  "language_info": {
   "codemirror_mode": {
    "name": "ipython",
    "version": 3
   },
   "file_extension": ".py",
   "mimetype": "text/x-python",
   "name": "python",
   "nbconvert_exporter": "python",
   "pygments_lexer": "ipython3",
   "version": "3.9.7"
  }
 },
 "nbformat": 4,
 "nbformat_minor": 5
}
